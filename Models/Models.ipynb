{
 "cells": [
  {
   "cell_type": "markdown",
   "id": "50027027",
   "metadata": {},
   "source": []
  },
  {
   "cell_type": "code",
   "execution_count": 1,
   "id": "43fce4d7",
   "metadata": {},
   "outputs": [],
   "source": [
    "import pandas as pd\n",
    "from matplotlib import pyplot as plt\n",
    "%matplotlib inline"
   ]
  },
  {
   "cell_type": "code",
   "execution_count": 2,
   "id": "74ab39aa",
   "metadata": {},
   "outputs": [
    {
     "data": {
      "text/html": [
       "<div>\n",
       "<style scoped>\n",
       "    .dataframe tbody tr th:only-of-type {\n",
       "        vertical-align: middle;\n",
       "    }\n",
       "\n",
       "    .dataframe tbody tr th {\n",
       "        vertical-align: top;\n",
       "    }\n",
       "\n",
       "    .dataframe thead th {\n",
       "        text-align: right;\n",
       "    }\n",
       "</style>\n",
       "<table border=\"1\" class=\"dataframe\">\n",
       "  <thead>\n",
       "    <tr style=\"text-align: right;\">\n",
       "      <th></th>\n",
       "      <th>age</th>\n",
       "      <th>bought_insurance</th>\n",
       "    </tr>\n",
       "  </thead>\n",
       "  <tbody>\n",
       "    <tr>\n",
       "      <th>0</th>\n",
       "      <td>22</td>\n",
       "      <td>0</td>\n",
       "    </tr>\n",
       "    <tr>\n",
       "      <th>1</th>\n",
       "      <td>25</td>\n",
       "      <td>0</td>\n",
       "    </tr>\n",
       "    <tr>\n",
       "      <th>2</th>\n",
       "      <td>47</td>\n",
       "      <td>1</td>\n",
       "    </tr>\n",
       "    <tr>\n",
       "      <th>3</th>\n",
       "      <td>52</td>\n",
       "      <td>0</td>\n",
       "    </tr>\n",
       "    <tr>\n",
       "      <th>4</th>\n",
       "      <td>46</td>\n",
       "      <td>1</td>\n",
       "    </tr>\n",
       "  </tbody>\n",
       "</table>\n",
       "</div>"
      ],
      "text/plain": [
       "   age  bought_insurance\n",
       "0   22                 0\n",
       "1   25                 0\n",
       "2   47                 1\n",
       "3   52                 0\n",
       "4   46                 1"
      ]
     },
     "execution_count": 2,
     "metadata": {},
     "output_type": "execute_result"
    }
   ],
   "source": [
    "df = pd.read_csv(\"insurance_data.csv\")\n",
    "df.head()"
   ]
  },
  {
   "cell_type": "code",
   "execution_count": 3,
   "id": "21f912e9",
   "metadata": {},
   "outputs": [],
   "source": [
    "from sklearn.model_selection import train_test_split"
   ]
  },
  {
   "cell_type": "code",
   "execution_count": 4,
   "id": "19cbf21d",
   "metadata": {},
   "outputs": [],
   "source": [
    "X_train, X_test, y_train, y_test = train_test_split(df[['age']],df.bought_insurance,train_size=0.8)\n"
   ]
  },
  {
   "cell_type": "markdown",
   "id": "80edc7c1",
   "metadata": {},
   "source": [
    "## 1Linear Regression"
   ]
  },
  {
   "cell_type": "code",
   "execution_count": null,
   "id": "ab343e92",
   "metadata": {},
   "outputs": [],
   "source": [
    "import pandas as pd\n",
    "import numpy as np\n",
    "from sklearn import linear_model\n",
    "import matplotlib.pyplot as plt"
   ]
  },
  {
   "cell_type": "code",
   "execution_count": null,
   "id": "f58aaad0",
   "metadata": {},
   "outputs": [],
   "source": [
    "reg = linear_model.LinearRegression()\n",
    "reg.fit(X_train, y_train)"
   ]
  },
  {
   "cell_type": "markdown",
   "id": "4c071273",
   "metadata": {},
   "source": [
    "### multi variate"
   ]
  },
  {
   "cell_type": "code",
   "execution_count": null,
   "id": "6e501b6d",
   "metadata": {},
   "outputs": [],
   "source": [
    "# reg = linear_model.LinearRegression()\n",
    "# reg.fit(d[['experience','test_score(out of 10)','interview_score(out of 10)']],d['salary($)'])"
   ]
  },
  {
   "cell_type": "markdown",
   "id": "1e801ced",
   "metadata": {},
   "source": [
    "#### one-hot-encoding(can be used any where)"
   ]
  },
  {
   "cell_type": "code",
   "execution_count": null,
   "id": "45491fe4",
   "metadata": {},
   "outputs": [],
   "source": [
    "# dummies = pd.get_dummies(df['Car Model'])\n",
    "# dummies"
   ]
  },
  {
   "cell_type": "code",
   "execution_count": null,
   "id": "b5d03d70",
   "metadata": {},
   "outputs": [],
   "source": [
    "# merged = pd.concat([df,dummies],axis='columns')\n",
    "# merged"
   ]
  },
  {
   "cell_type": "code",
   "execution_count": null,
   "id": "1071c163",
   "metadata": {},
   "outputs": [],
   "source": [
    "# X = final.drop('Sell Price($)',axis='columns')\n",
    "# X"
   ]
  },
  {
   "cell_type": "code",
   "execution_count": null,
   "id": "4ee4127e",
   "metadata": {},
   "outputs": [],
   "source": [
    "# y = final['Sell Price($)']\n",
    "# y"
   ]
  },
  {
   "cell_type": "markdown",
   "id": "0a091477",
   "metadata": {},
   "source": [
    "## 2LogisticRegression"
   ]
  },
  {
   "cell_type": "code",
   "execution_count": 5,
   "id": "b4ae53e9",
   "metadata": {},
   "outputs": [],
   "source": [
    "from sklearn.linear_model import LogisticRegression\n"
   ]
  },
  {
   "cell_type": "code",
   "execution_count": 6,
   "id": "bf647745",
   "metadata": {},
   "outputs": [
    {
     "data": {
      "text/plain": [
       "LogisticRegression()"
      ]
     },
     "execution_count": 6,
     "metadata": {},
     "output_type": "execute_result"
    }
   ],
   "source": [
    "model = LogisticRegression()\n",
    "model.fit(X_train, y_train)\n",
    "#"
   ]
  },
  {
   "cell_type": "code",
   "execution_count": null,
   "id": "9d377f39",
   "metadata": {},
   "outputs": [],
   "source": [
    "### multi variate"
   ]
  },
  {
   "cell_type": "code",
   "execution_count": null,
   "id": "da73b8c9",
   "metadata": {},
   "outputs": [],
   "source": [
    "# iris.data[80]\n",
    "# array([5.5, 2.4, 3.8, 1.1])\n",
    "\n",
    "# iris.target[80]\n",
    "# 1\n",
    "\n",
    "# iris.target_names[1]\n",
    "# 'versicolor'\n",
    "\n",
    "# model.predict([iris.data[80]])\n",
    "# array([1])"
   ]
  },
  {
   "cell_type": "markdown",
   "id": "58e06678",
   "metadata": {},
   "source": [
    "## 3Decisiontree"
   ]
  },
  {
   "cell_type": "code",
   "execution_count": null,
   "id": "e4e56dd8",
   "metadata": {},
   "outputs": [],
   "source": [
    "# inputs = df.drop('salary_more_then_100k',axis='columns')\n",
    "# target = df['salary_more_then_100k']\n",
    "\n",
    "# from sklearn.preprocessing import LabelEncoder\n",
    "# le_company = LabelEncoder()\n",
    "# le_job = LabelEncoder()\n",
    "# le_degree = LabelEncoder()\n",
    "\n",
    "# inputs['company_n'] = le_company.fit_transform(inputs['company'])\n",
    "# inputs['job_n'] = le_job.fit_transform(inputs['job'])\n",
    "# inputs['degree_n'] = le_degree.fit_transform(inputs['degree'])\n",
    "# inputs\n",
    "(drop old colum)"
   ]
  },
  {
   "cell_type": "code",
   "execution_count": null,
   "id": "a017653a",
   "metadata": {},
   "outputs": [],
   "source": []
  }
 ],
 "metadata": {
  "kernelspec": {
   "display_name": "Python 3 (ipykernel)",
   "language": "python",
   "name": "python3"
  },
  "language_info": {
   "codemirror_mode": {
    "name": "ipython",
    "version": 3
   },
   "file_extension": ".py",
   "mimetype": "text/x-python",
   "name": "python",
   "nbconvert_exporter": "python",
   "pygments_lexer": "ipython3",
   "version": "3.9.13"
  }
 },
 "nbformat": 4,
 "nbformat_minor": 5
}
