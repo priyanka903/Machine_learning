{
 "cells": [
  {
   "cell_type": "markdown",
   "id": "50027027",
   "metadata": {},
   "source": []
  },
  {
   "cell_type": "code",
   "execution_count": 1,
   "id": "43fce4d7",
   "metadata": {},
   "outputs": [],
   "source": [
    "import pandas as pd\n",
    "from matplotlib import pyplot as plt\n",
    "%matplotlib inline"
   ]
  },
  {
   "cell_type": "code",
   "execution_count": 2,
   "id": "74ab39aa",
   "metadata": {},
   "outputs": [
    {
     "data": {
      "text/html": [
       "<div>\n",
       "<style scoped>\n",
       "    .dataframe tbody tr th:only-of-type {\n",
       "        vertical-align: middle;\n",
       "    }\n",
       "\n",
       "    .dataframe tbody tr th {\n",
       "        vertical-align: top;\n",
       "    }\n",
       "\n",
       "    .dataframe thead th {\n",
       "        text-align: right;\n",
       "    }\n",
       "</style>\n",
       "<table border=\"1\" class=\"dataframe\">\n",
       "  <thead>\n",
       "    <tr style=\"text-align: right;\">\n",
       "      <th></th>\n",
       "      <th>age</th>\n",
       "      <th>bought_insurance</th>\n",
       "    </tr>\n",
       "  </thead>\n",
       "  <tbody>\n",
       "    <tr>\n",
       "      <th>0</th>\n",
       "      <td>22</td>\n",
       "      <td>0</td>\n",
       "    </tr>\n",
       "    <tr>\n",
       "      <th>1</th>\n",
       "      <td>25</td>\n",
       "      <td>0</td>\n",
       "    </tr>\n",
       "    <tr>\n",
       "      <th>2</th>\n",
       "      <td>47</td>\n",
       "      <td>1</td>\n",
       "    </tr>\n",
       "    <tr>\n",
       "      <th>3</th>\n",
       "      <td>52</td>\n",
       "      <td>0</td>\n",
       "    </tr>\n",
       "    <tr>\n",
       "      <th>4</th>\n",
       "      <td>46</td>\n",
       "      <td>1</td>\n",
       "    </tr>\n",
       "  </tbody>\n",
       "</table>\n",
       "</div>"
      ],
      "text/plain": [
       "   age  bought_insurance\n",
       "0   22                 0\n",
       "1   25                 0\n",
       "2   47                 1\n",
       "3   52                 0\n",
       "4   46                 1"
      ]
     },
     "execution_count": 2,
     "metadata": {},
     "output_type": "execute_result"
    }
   ],
   "source": [
    "df = pd.read_csv(\"insurance_data.csv\")\n",
    "df.head()"
   ]
  },
  {
   "cell_type": "code",
   "execution_count": 3,
   "id": "21f912e9",
   "metadata": {},
   "outputs": [],
   "source": [
    "from sklearn.model_selection import train_test_split"
   ]
  },
  {
   "cell_type": "code",
   "execution_count": 4,
   "id": "19cbf21d",
   "metadata": {},
   "outputs": [],
   "source": [
    "X_train, X_test, y_train, y_test = train_test_split(df[['age']],df.bought_insurance,train_size=0.8)\n"
   ]
  },
  {
   "cell_type": "markdown",
   "id": "34777b00",
   "metadata": {},
   "source": [
    "## 1Linear Regression"
   ]
  },
  {
   "cell_type": "code",
   "execution_count": null,
   "id": "8428e555",
   "metadata": {},
   "outputs": [],
   "source": [
    "import pandas as pd\n",
    "import numpy as np\n",
    "from sklearn import linear_model\n",
    "import matplotlib.pyplot as plt"
   ]
  },
  {
   "cell_type": "code",
   "execution_count": null,
   "id": "9175230d",
   "metadata": {},
   "outputs": [],
   "source": [
    "reg = linear_model.LinearRegression()\n",
    "reg.fit(X_train, y_train)"
   ]
  },
  {
   "cell_type": "markdown",
   "id": "2cd55c6c",
   "metadata": {},
   "source": [
    "### multi variate"
   ]
  },
  {
   "cell_type": "code",
   "execution_count": null,
   "id": "4b6e0163",
   "metadata": {},
   "outputs": [],
   "source": [
    "# reg = linear_model.LinearRegression()\n",
    "# reg.fit(d[['experience','test_score(out of 10)','interview_score(out of 10)']],d['salary($)'])"
   ]
  },
  {
   "cell_type": "markdown",
   "id": "79ae2b82",
   "metadata": {},
   "source": [
    "#### one-hot-encoding(can be used any where)"
   ]
  },
  {
   "cell_type": "code",
   "execution_count": null,
   "id": "76ace59e",
   "metadata": {},
   "outputs": [],
   "source": [
    "# dummies = pd.get_dummies(df['Car Model'])\n",
    "# dummies"
   ]
  },
  {
   "cell_type": "code",
   "execution_count": null,
   "id": "d561a818",
   "metadata": {},
   "outputs": [],
   "source": [
    "# merged = pd.concat([df,dummies],axis='columns')\n",
    "# merged"
   ]
  },
  {
   "cell_type": "code",
   "execution_count": null,
   "id": "a8aaa9b8",
   "metadata": {},
   "outputs": [],
   "source": [
    "# X = final.drop('Sell Price($)',axis='columns')\n",
    "# X"
   ]
  },
  {
   "cell_type": "code",
   "execution_count": null,
   "id": "c3cd1f95",
   "metadata": {},
   "outputs": [],
   "source": [
    "# y = final['Sell Price($)']\n",
    "# y"
   ]
  },
  {
   "cell_type": "markdown",
   "id": "0a091477",
   "metadata": {},
   "source": [
    "## 2LogisticRegression"
   ]
  },
  {
   "cell_type": "code",
   "execution_count": 5,
   "id": "b4ae53e9",
   "metadata": {},
   "outputs": [],
   "source": [
    "from sklearn.linear_model import LogisticRegression\n"
   ]
  },
  {
   "cell_type": "code",
   "execution_count": 6,
   "id": "bf647745",
   "metadata": {},
   "outputs": [
    {
     "data": {
      "text/plain": [
       "LogisticRegression()"
      ]
     },
     "execution_count": 6,
     "metadata": {},
     "output_type": "execute_result"
    }
   ],
   "source": [
    "model = LogisticRegression()\n",
    "model.fit(X_train, y_train)\n",
    "#"
   ]
  },
  {
   "cell_type": "code",
   "execution_count": null,
   "id": "17823cc5",
   "metadata": {},
   "outputs": [],
   "source": [
    "### multi variate"
   ]
  },
  {
   "cell_type": "code",
   "execution_count": null,
   "id": "b70cb400",
   "metadata": {},
   "outputs": [],
   "source": [
    "# iris.data[80]\n",
    "# array([5.5, 2.4, 3.8, 1.1])\n",
    "\n",
    "# iris.target[80]\n",
    "# 1\n",
    "\n",
    "# iris.target_names[1]\n",
    "# 'versicolor'\n",
    "\n",
    "# model.predict([iris.data[80]])\n",
    "# array([1])"
   ]
  },
  {
   "cell_type": "markdown",
   "id": "f8d6669a",
   "metadata": {},
   "source": [
    "## 3Decisiontree"
   ]
  },
  {
   "cell_type": "code",
   "execution_count": null,
   "id": "889a8f28",
   "metadata": {},
   "outputs": [],
   "source": [
    "# from sklearn import tree\n",
    "# model = tree.DecisionTreeClassifier()\n",
    "# model.fit(inputs_n, target)\n",
    "# DecisionTreeClassifier()\n",
    "# model.score(inputs_n,target)"
   ]
  },
  {
   "cell_type": "code",
   "execution_count": null,
   "id": "190adfb3",
   "metadata": {},
   "outputs": [],
   "source": [
    "# inputs = df.drop('salary_more_then_100k',axis='columns')\n",
    "# target = df['salary_more_then_100k']\n",
    "\n",
    "# from sklearn.preprocessing import LabelEncoder\n",
    "# le_company = LabelEncoder()\n",
    "# le_job = LabelEncoder()\n",
    "# le_degree = LabelEncoder()\n",
    "\n",
    "# inputs['company_n'] = le_company.fit_transform(inputs['company'])\n",
    "# inputs['job_n'] = le_job.fit_transform(inputs['job'])\n",
    "# inputs['degree_n'] = le_degree.fit_transform(inputs['degree'])\n",
    "# inputs\n",
    "# (drop old columns)"
   ]
  },
  {
   "cell_type": "markdown",
   "id": "7609cac7",
   "metadata": {},
   "source": [
    "## 4SVM"
   ]
  },
  {
   "cell_type": "code",
   "execution_count": null,
   "id": "542d6ab5",
   "metadata": {},
   "outputs": [],
   "source": [
    "from sklearn.svm import SVC\n",
    "model = SVC()\n",
    "model.fit(X_train, y_train)"
   ]
  },
  {
   "cell_type": "markdown",
   "id": "2857aa24",
   "metadata": {},
   "source": [
    "## 5RandomForest"
   ]
  },
  {
   "cell_type": "code",
   "execution_count": null,
   "id": "6645a234",
   "metadata": {},
   "outputs": [],
   "source": [
    "from sklearn.ensemble import RandomForestClassifier\n",
    "model = RandomForestClassifier(n_estimators=20)\n",
    "model.fit(X_train, y_train)"
   ]
  },
  {
   "cell_type": "markdown",
   "id": "8c83c00c",
   "metadata": {},
   "source": [
    "## Kmeans"
   ]
  },
  {
   "cell_type": "code",
   "execution_count": null,
   "id": "4c39f89f",
   "metadata": {},
   "outputs": [],
   "source": [
    "from sklearn.datasets import load_iris\n",
    "from sklearn.model_selection import cross_val_score\n",
    "from sklearn.linear_model import LogisticRegression\n",
    "from sklearn.tree import DecisionTreeClassifier\n",
    "from sklearn.svm import SVC\n",
    "from sklearn.ensemble import RandomForestClassifier\n",
    "import numpy as np"
   ]
  },
  {
   "cell_type": "markdown",
   "id": "76248347",
   "metadata": {},
   "source": [
    "#### LogisticRegression"
   ]
  },
  {
   "cell_type": "code",
   "execution_count": null,
   "id": "991a15b6",
   "metadata": {},
   "outputs": [],
   "source": [
    "l_scores = cross_val_score(LogisticRegression(), iris.data, iris.target)\n",
    "l_scores"
   ]
  },
  {
   "cell_type": "markdown",
   "id": "c23056fa",
   "metadata": {},
   "source": [
    "#### DecisionTreeClassifier"
   ]
  },
  {
   "cell_type": "code",
   "execution_count": null,
   "id": "bc5d0488",
   "metadata": {},
   "outputs": [],
   "source": [
    "d_scores = cross_val_score(DecisionTreeClassifier(), iris.data, iris.target)\n",
    "d_scores"
   ]
  },
  {
   "cell_type": "markdown",
   "id": "d3c272f3",
   "metadata": {},
   "source": [
    "#### SVC"
   ]
  },
  {
   "cell_type": "code",
   "execution_count": null,
   "id": "2e4ad1d5",
   "metadata": {},
   "outputs": [],
   "source": [
    "s_scores = cross_val_score(SVC(), iris.data, iris.target)\n",
    "s_scores"
   ]
  },
  {
   "cell_type": "markdown",
   "id": "86075911",
   "metadata": {},
   "source": [
    "#### RandomForestClassifier"
   ]
  },
  {
   "cell_type": "code",
   "execution_count": null,
   "id": "536f8395",
   "metadata": {},
   "outputs": [],
   "source": [
    "r_scores = cross_val_score(RandomForestClassifier(n_estimators=40), iris.data, iris.target)\n",
    "r_scores"
   ]
  },
  {
   "cell_type": "code",
   "execution_count": null,
   "id": "b259397b",
   "metadata": {},
   "outputs": [],
   "source": []
  },
  {
   "cell_type": "markdown",
   "id": "a3a8052c",
   "metadata": {},
   "source": [
    "## Naive Bayes"
   ]
  },
  {
   "cell_type": "code",
   "execution_count": null,
   "id": "1837c80a",
   "metadata": {},
   "outputs": [],
   "source": [
    "there are 3 types of navive bayes"
   ]
  },
  {
   "cell_type": "markdown",
   "id": "454c56b7",
   "metadata": {},
   "source": [
    "<img src=\"pic3.png\" style='height:200px;width:350px'>"
   ]
  },
  {
   "cell_type": "markdown",
   "id": "6dffa230",
   "metadata": {},
   "source": [
    "#### GaussianNB"
   ]
  },
  {
   "cell_type": "code",
   "execution_count": null,
   "id": "45dc98c7",
   "metadata": {},
   "outputs": [],
   "source": [
    "# from sklearn.naive_bayes import GaussianNB\n",
    "# model = GaussianNB()\n",
    "# model.fit(X_train,y_train)"
   ]
  },
  {
   "cell_type": "code",
   "execution_count": null,
   "id": "8063cab9",
   "metadata": {},
   "outputs": [],
   "source": [
    "# y_test[0:10]"
   ]
  },
  {
   "cell_type": "code",
   "execution_count": null,
   "id": "79a65774",
   "metadata": {},
   "outputs": [],
   "source": [
    "# model.predict(X_test[0:10])"
   ]
  },
  {
   "cell_type": "code",
   "execution_count": null,
   "id": "88ccc473",
   "metadata": {},
   "outputs": [],
   "source": [
    "# model.predict_proba(X_test[:10])"
   ]
  },
  {
   "cell_type": "markdown",
   "id": "5a7298d8",
   "metadata": {},
   "source": [
    "#### with cross validation"
   ]
  },
  {
   "cell_type": "code",
   "execution_count": null,
   "id": "0343c691",
   "metadata": {},
   "outputs": [],
   "source": [
    "# from sklearn.model_selection import cross_val_score\n",
    "# cross_val_score(GaussianNB(),X_train, y_train, cv=5)"
   ]
  },
  {
   "cell_type": "markdown",
   "id": "a06205bd",
   "metadata": {},
   "source": [
    "#### MultinomialNB"
   ]
  },
  {
   "cell_type": "code",
   "execution_count": null,
   "id": "443bbe07",
   "metadata": {},
   "outputs": [],
   "source": [
    "from sklearn.naive_bayes import MultinomialNB\n",
    "model = MultinomialNB()\n",
    "model.fit(X_train_count,y_train)"
   ]
  },
  {
   "cell_type": "markdown",
   "id": "2f4083a6",
   "metadata": {},
   "source": [
    "### Pipelining"
   ]
  },
  {
   "cell_type": "markdown",
   "id": "b382e13e",
   "metadata": {},
   "source": [
    "##### original step by step"
   ]
  },
  {
   "cell_type": "code",
   "execution_count": null,
   "id": "b669128a",
   "metadata": {},
   "outputs": [],
   "source": [
    "from sklearn.feature_extraction.text import CountVectorizer\n",
    "v = CountVectorizer()\n",
    "X_train2 = v.fit_transform(X_train.values)\n",
    "X_train2.toarray()[:2]"
   ]
  },
  {
   "cell_type": "code",
   "execution_count": null,
   "id": "39fd71bd",
   "metadata": {},
   "outputs": [],
   "source": [
    "from sklearn.naive_bayes import MultinomialNB\n",
    "model = MultinomialNB()\n",
    "model.fit(X_train_count,y_train)"
   ]
  },
  {
   "cell_type": "code",
   "execution_count": null,
   "id": "68f3dfc7",
   "metadata": {},
   "outputs": [],
   "source": [
    "emails = [\n",
    "    'Hey mohan, can we get together to watch footbal game tomorrow?',\n",
    "    'Upto 20% discount on parking, exclusive offer just for you. Dont miss this reward!'\n",
    "]\n",
    "emails_count = v.transform(emails)\n",
    "model.predict(emails_count)"
   ]
  },
  {
   "cell_type": "code",
   "execution_count": null,
   "id": "cee54971",
   "metadata": {},
   "outputs": [],
   "source": [
    "X_test_count = v.transform(X_test)\n",
    "model.score(X_test_count, y_test)"
   ]
  },
  {
   "cell_type": "markdown",
   "id": "0e321386",
   "metadata": {},
   "source": [
    "##### Sklearn Pipeline"
   ]
  },
  {
   "cell_type": "code",
   "execution_count": null,
   "id": "c5a549bc",
   "metadata": {},
   "outputs": [],
   "source": [
    "from sklearn.pipeline import Pipeline\n",
    "clf = Pipeline([\n",
    "    ('vectorizer', CountVectorizer()),\n",
    "    ('nb', MultinomialNB())\n",
    "])"
   ]
  },
  {
   "cell_type": "code",
   "execution_count": null,
   "id": "a098512d",
   "metadata": {},
   "outputs": [],
   "source": [
    "clf.fit(X_train, y_train)"
   ]
  },
  {
   "cell_type": "code",
   "execution_count": null,
   "id": "e6c1cb45",
   "metadata": {},
   "outputs": [],
   "source": []
  },
  {
   "cell_type": "code",
   "execution_count": null,
   "id": "3ccc6e48",
   "metadata": {},
   "outputs": [],
   "source": []
  }
 ],
 "metadata": {
  "kernelspec": {
   "display_name": "Python 3 (ipykernel)",
   "language": "python",
   "name": "python3"
  },
  "language_info": {
   "codemirror_mode": {
    "name": "ipython",
    "version": 3
   },
   "file_extension": ".py",
   "mimetype": "text/x-python",
   "name": "python",
   "nbconvert_exporter": "python",
   "pygments_lexer": "ipython3",
   "version": "3.9.13"
  }
 },
 "nbformat": 4,
 "nbformat_minor": 5
}
